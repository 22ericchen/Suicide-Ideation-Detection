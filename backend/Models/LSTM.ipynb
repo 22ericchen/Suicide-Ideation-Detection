{
  "cells": [
    {
      "cell_type": "code",
      "execution_count": 1,
      "id": "initial_id",
      "metadata": {
        "ExecuteTime": {
          "end_time": "2024-04-03T19:51:58.284273Z",
          "start_time": "2024-04-03T19:51:58.280730Z"
        },
        "collapsed": true,
        "id": "initial_id"
      },
      "outputs": [],
      "source": [
        "import pandas as pd\n",
        "import numpy as np\n",
        "import re\n",
        "import pickle\n",
        "from tensorflow.keras.preprocessing.text import Tokenizer\n",
        "from tensorflow.keras.preprocessing.sequence import pad_sequences\n",
        "from tensorflow.keras.models import Sequential\n",
        "from tensorflow.keras.layers import Embedding, LSTM, Dense\n",
        "from tensorflow.keras.utils import to_categorical\n",
        "from sklearn.model_selection import train_test_split\n",
        "from sklearn.preprocessing import LabelEncoder\n",
        "from sklearn.metrics import precision_score, recall_score, f1_score, accuracy_score\n",
        "import utils as utils"
      ]
    },
    {
      "cell_type": "code",
      "execution_count": 2,
      "id": "18af4ba0a056a64d",
      "metadata": {
        "ExecuteTime": {
          "end_time": "2024-04-03T19:51:59.485509Z",
          "start_time": "2024-04-03T19:51:58.855145Z"
        },
        "colab": {
          "base_uri": "https://localhost:8080/",
          "height": 175
        },
        "id": "18af4ba0a056a64d",
        "outputId": "4a650fe8-814a-4581-997f-e5a97b041146"
      },
      "outputs": [
        {
          "output_type": "execute_result",
          "data": {
            "text/plain": [
              "                                                     text            label\n",
              "count                                               45706            45706\n",
              "unique                                              45631                5\n",
              "top     FEARLESS FRIDAYS MEGA THREAD. Here we discuss ...  self.depression\n",
              "freq                                                   15            15714"
            ],
            "text/html": [
              "\n",
              "  <div id=\"df-aabf3ebc-3dc6-450e-a163-f41dfcf72d0c\" class=\"colab-df-container\">\n",
              "    <div>\n",
              "<style scoped>\n",
              "    .dataframe tbody tr th:only-of-type {\n",
              "        vertical-align: middle;\n",
              "    }\n",
              "\n",
              "    .dataframe tbody tr th {\n",
              "        vertical-align: top;\n",
              "    }\n",
              "\n",
              "    .dataframe thead th {\n",
              "        text-align: right;\n",
              "    }\n",
              "</style>\n",
              "<table border=\"1\" class=\"dataframe\">\n",
              "  <thead>\n",
              "    <tr style=\"text-align: right;\">\n",
              "      <th></th>\n",
              "      <th>text</th>\n",
              "      <th>label</th>\n",
              "    </tr>\n",
              "  </thead>\n",
              "  <tbody>\n",
              "    <tr>\n",
              "      <th>count</th>\n",
              "      <td>45706</td>\n",
              "      <td>45706</td>\n",
              "    </tr>\n",
              "    <tr>\n",
              "      <th>unique</th>\n",
              "      <td>45631</td>\n",
              "      <td>5</td>\n",
              "    </tr>\n",
              "    <tr>\n",
              "      <th>top</th>\n",
              "      <td>FEARLESS FRIDAYS MEGA THREAD. Here we discuss ...</td>\n",
              "      <td>self.depression</td>\n",
              "    </tr>\n",
              "    <tr>\n",
              "      <th>freq</th>\n",
              "      <td>15</td>\n",
              "      <td>15714</td>\n",
              "    </tr>\n",
              "  </tbody>\n",
              "</table>\n",
              "</div>\n",
              "    <div class=\"colab-df-buttons\">\n",
              "\n",
              "  <div class=\"colab-df-container\">\n",
              "    <button class=\"colab-df-convert\" onclick=\"convertToInteractive('df-aabf3ebc-3dc6-450e-a163-f41dfcf72d0c')\"\n",
              "            title=\"Convert this dataframe to an interactive table.\"\n",
              "            style=\"display:none;\">\n",
              "\n",
              "  <svg xmlns=\"http://www.w3.org/2000/svg\" height=\"24px\" viewBox=\"0 -960 960 960\">\n",
              "    <path d=\"M120-120v-720h720v720H120Zm60-500h600v-160H180v160Zm220 220h160v-160H400v160Zm0 220h160v-160H400v160ZM180-400h160v-160H180v160Zm440 0h160v-160H620v160ZM180-180h160v-160H180v160Zm440 0h160v-160H620v160Z\"/>\n",
              "  </svg>\n",
              "    </button>\n",
              "\n",
              "  <style>\n",
              "    .colab-df-container {\n",
              "      display:flex;\n",
              "      gap: 12px;\n",
              "    }\n",
              "\n",
              "    .colab-df-convert {\n",
              "      background-color: #E8F0FE;\n",
              "      border: none;\n",
              "      border-radius: 50%;\n",
              "      cursor: pointer;\n",
              "      display: none;\n",
              "      fill: #1967D2;\n",
              "      height: 32px;\n",
              "      padding: 0 0 0 0;\n",
              "      width: 32px;\n",
              "    }\n",
              "\n",
              "    .colab-df-convert:hover {\n",
              "      background-color: #E2EBFA;\n",
              "      box-shadow: 0px 1px 2px rgba(60, 64, 67, 0.3), 0px 1px 3px 1px rgba(60, 64, 67, 0.15);\n",
              "      fill: #174EA6;\n",
              "    }\n",
              "\n",
              "    .colab-df-buttons div {\n",
              "      margin-bottom: 4px;\n",
              "    }\n",
              "\n",
              "    [theme=dark] .colab-df-convert {\n",
              "      background-color: #3B4455;\n",
              "      fill: #D2E3FC;\n",
              "    }\n",
              "\n",
              "    [theme=dark] .colab-df-convert:hover {\n",
              "      background-color: #434B5C;\n",
              "      box-shadow: 0px 1px 3px 1px rgba(0, 0, 0, 0.15);\n",
              "      filter: drop-shadow(0px 1px 2px rgba(0, 0, 0, 0.3));\n",
              "      fill: #FFFFFF;\n",
              "    }\n",
              "  </style>\n",
              "\n",
              "    <script>\n",
              "      const buttonEl =\n",
              "        document.querySelector('#df-aabf3ebc-3dc6-450e-a163-f41dfcf72d0c button.colab-df-convert');\n",
              "      buttonEl.style.display =\n",
              "        google.colab.kernel.accessAllowed ? 'block' : 'none';\n",
              "\n",
              "      async function convertToInteractive(key) {\n",
              "        const element = document.querySelector('#df-aabf3ebc-3dc6-450e-a163-f41dfcf72d0c');\n",
              "        const dataTable =\n",
              "          await google.colab.kernel.invokeFunction('convertToInteractive',\n",
              "                                                    [key], {});\n",
              "        if (!dataTable) return;\n",
              "\n",
              "        const docLinkHtml = 'Like what you see? Visit the ' +\n",
              "          '<a target=\"_blank\" href=https://colab.research.google.com/notebooks/data_table.ipynb>data table notebook</a>'\n",
              "          + ' to learn more about interactive tables.';\n",
              "        element.innerHTML = '';\n",
              "        dataTable['output_type'] = 'display_data';\n",
              "        await google.colab.output.renderOutput(dataTable, element);\n",
              "        const docLink = document.createElement('div');\n",
              "        docLink.innerHTML = docLinkHtml;\n",
              "        element.appendChild(docLink);\n",
              "      }\n",
              "    </script>\n",
              "  </div>\n",
              "\n",
              "\n",
              "<div id=\"df-71422973-8496-45a9-88af-400d4ea8e467\">\n",
              "  <button class=\"colab-df-quickchart\" onclick=\"quickchart('df-71422973-8496-45a9-88af-400d4ea8e467')\"\n",
              "            title=\"Suggest charts\"\n",
              "            style=\"display:none;\">\n",
              "\n",
              "<svg xmlns=\"http://www.w3.org/2000/svg\" height=\"24px\"viewBox=\"0 0 24 24\"\n",
              "     width=\"24px\">\n",
              "    <g>\n",
              "        <path d=\"M19 3H5c-1.1 0-2 .9-2 2v14c0 1.1.9 2 2 2h14c1.1 0 2-.9 2-2V5c0-1.1-.9-2-2-2zM9 17H7v-7h2v7zm4 0h-2V7h2v10zm4 0h-2v-4h2v4z\"/>\n",
              "    </g>\n",
              "</svg>\n",
              "  </button>\n",
              "\n",
              "<style>\n",
              "  .colab-df-quickchart {\n",
              "      --bg-color: #E8F0FE;\n",
              "      --fill-color: #1967D2;\n",
              "      --hover-bg-color: #E2EBFA;\n",
              "      --hover-fill-color: #174EA6;\n",
              "      --disabled-fill-color: #AAA;\n",
              "      --disabled-bg-color: #DDD;\n",
              "  }\n",
              "\n",
              "  [theme=dark] .colab-df-quickchart {\n",
              "      --bg-color: #3B4455;\n",
              "      --fill-color: #D2E3FC;\n",
              "      --hover-bg-color: #434B5C;\n",
              "      --hover-fill-color: #FFFFFF;\n",
              "      --disabled-bg-color: #3B4455;\n",
              "      --disabled-fill-color: #666;\n",
              "  }\n",
              "\n",
              "  .colab-df-quickchart {\n",
              "    background-color: var(--bg-color);\n",
              "    border: none;\n",
              "    border-radius: 50%;\n",
              "    cursor: pointer;\n",
              "    display: none;\n",
              "    fill: var(--fill-color);\n",
              "    height: 32px;\n",
              "    padding: 0;\n",
              "    width: 32px;\n",
              "  }\n",
              "\n",
              "  .colab-df-quickchart:hover {\n",
              "    background-color: var(--hover-bg-color);\n",
              "    box-shadow: 0 1px 2px rgba(60, 64, 67, 0.3), 0 1px 3px 1px rgba(60, 64, 67, 0.15);\n",
              "    fill: var(--button-hover-fill-color);\n",
              "  }\n",
              "\n",
              "  .colab-df-quickchart-complete:disabled,\n",
              "  .colab-df-quickchart-complete:disabled:hover {\n",
              "    background-color: var(--disabled-bg-color);\n",
              "    fill: var(--disabled-fill-color);\n",
              "    box-shadow: none;\n",
              "  }\n",
              "\n",
              "  .colab-df-spinner {\n",
              "    border: 2px solid var(--fill-color);\n",
              "    border-color: transparent;\n",
              "    border-bottom-color: var(--fill-color);\n",
              "    animation:\n",
              "      spin 1s steps(1) infinite;\n",
              "  }\n",
              "\n",
              "  @keyframes spin {\n",
              "    0% {\n",
              "      border-color: transparent;\n",
              "      border-bottom-color: var(--fill-color);\n",
              "      border-left-color: var(--fill-color);\n",
              "    }\n",
              "    20% {\n",
              "      border-color: transparent;\n",
              "      border-left-color: var(--fill-color);\n",
              "      border-top-color: var(--fill-color);\n",
              "    }\n",
              "    30% {\n",
              "      border-color: transparent;\n",
              "      border-left-color: var(--fill-color);\n",
              "      border-top-color: var(--fill-color);\n",
              "      border-right-color: var(--fill-color);\n",
              "    }\n",
              "    40% {\n",
              "      border-color: transparent;\n",
              "      border-right-color: var(--fill-color);\n",
              "      border-top-color: var(--fill-color);\n",
              "    }\n",
              "    60% {\n",
              "      border-color: transparent;\n",
              "      border-right-color: var(--fill-color);\n",
              "    }\n",
              "    80% {\n",
              "      border-color: transparent;\n",
              "      border-right-color: var(--fill-color);\n",
              "      border-bottom-color: var(--fill-color);\n",
              "    }\n",
              "    90% {\n",
              "      border-color: transparent;\n",
              "      border-bottom-color: var(--fill-color);\n",
              "    }\n",
              "  }\n",
              "</style>\n",
              "\n",
              "  <script>\n",
              "    async function quickchart(key) {\n",
              "      const quickchartButtonEl =\n",
              "        document.querySelector('#' + key + ' button');\n",
              "      quickchartButtonEl.disabled = true;  // To prevent multiple clicks.\n",
              "      quickchartButtonEl.classList.add('colab-df-spinner');\n",
              "      try {\n",
              "        const charts = await google.colab.kernel.invokeFunction(\n",
              "            'suggestCharts', [key], {});\n",
              "      } catch (error) {\n",
              "        console.error('Error during call to suggestCharts:', error);\n",
              "      }\n",
              "      quickchartButtonEl.classList.remove('colab-df-spinner');\n",
              "      quickchartButtonEl.classList.add('colab-df-quickchart-complete');\n",
              "    }\n",
              "    (() => {\n",
              "      let quickchartButtonEl =\n",
              "        document.querySelector('#df-71422973-8496-45a9-88af-400d4ea8e467 button');\n",
              "      quickchartButtonEl.style.display =\n",
              "        google.colab.kernel.accessAllowed ? 'block' : 'none';\n",
              "    })();\n",
              "  </script>\n",
              "</div>\n",
              "\n",
              "    </div>\n",
              "  </div>\n"
            ],
            "application/vnd.google.colaboratory.intrinsic+json": {
              "type": "dataframe",
              "summary": "{\n  \"name\": \"train_data\",\n  \"rows\": 4,\n  \"fields\": [\n    {\n      \"column\": \"text\",\n      \"properties\": {\n        \"dtype\": \"string\",\n        \"num_unique_values\": 4,\n        \"samples\": [\n          45631,\n          \"15\",\n          \"45706\"\n        ],\n        \"semantic_type\": \"\",\n        \"description\": \"\"\n      }\n    },\n    {\n      \"column\": \"label\",\n      \"properties\": {\n        \"dtype\": \"string\",\n        \"num_unique_values\": 4,\n        \"samples\": [\n          5,\n          \"15714\",\n          \"45706\"\n        ],\n        \"semantic_type\": \"\",\n        \"description\": \"\"\n      }\n    }\n  ]\n}"
            }
          },
          "metadata": {},
          "execution_count": 2
        }
      ],
      "source": [
        "train_path = 'train.csv'\n",
        "\n",
        "train_data = pd.read_csv(train_path)\n",
        "train_data.describe()"
      ]
    },
    {
      "cell_type": "code",
      "source": [
        "def load_glove_vectors(glove_file):\n",
        "    embeddings_index = {}\n",
        "    with open(glove_file, 'r', encoding='utf-8') as file:\n",
        "        for line in file:\n",
        "            values = line.split()\n",
        "            word = values[0]\n",
        "            vector = np.asarray(values[1:], dtype='float32')\n",
        "            embeddings_index[word] = vector\n",
        "    return embeddings_index\n",
        "\n",
        "# Path to the GloVe file (adjust as needed)\n",
        "glove_path = 'glove.6B.100d.txt'  # Adjust this path to where you've saved your GloVe data\n",
        "embeddings_index = load_glove_vectors(glove_path)"
      ],
      "metadata": {
        "id": "Wl9wXJ1QuO2N"
      },
      "id": "Wl9wXJ1QuO2N",
      "execution_count": 5,
      "outputs": []
    },
    {
      "cell_type": "code",
      "execution_count": 3,
      "id": "9c9482b16b4f9b0b",
      "metadata": {
        "ExecuteTime": {
          "end_time": "2024-04-03T19:54:19.367767Z",
          "start_time": "2024-04-03T19:54:12.444636Z"
        },
        "id": "9c9482b16b4f9b0b"
      },
      "outputs": [],
      "source": [
        "# Tokenize text\n",
        "tokenizer = Tokenizer()\n",
        "tokenizer.fit_on_texts(train_data['text'])\n",
        "\n",
        "#saving the tokenizer\n",
        "with open('LSTMtokenizer.pickle', 'wb') as handle:\n",
        "    pickle.dump(tokenizer, handle, protocol=pickle.HIGHEST_PROTOCOL)\n",
        "\n",
        "# Convert text to sequences and pad them\n",
        "max_length = max([len(s.split()) for s in train_data['text']])\n",
        "vocab_size = len(tokenizer.word_index) + 1  # Adding 1 because of reserved 0 index\n",
        "\n",
        "# Convert texts to sequences\n",
        "train_sequences = tokenizer.texts_to_sequences(train_data['text'])\n",
        "\n",
        "X_data = pad_sequences(train_sequences, maxlen=max_length)\n",
        "\n",
        "# Encode labels\n",
        "label_encoder = LabelEncoder()\n",
        "y_data = label_encoder.fit_transform(train_data['label'])\n",
        "\n",
        "#split to train set and test set\n",
        "X_train, X_test, y_train, y_test = train_test_split(X_data, y_data,test_size=0.2, random_state=42)"
      ]
    },
    {
      "cell_type": "code",
      "execution_count": 6,
      "id": "1db5777021c8a175",
      "metadata": {
        "ExecuteTime": {
          "end_time": "2024-04-03T19:54:21.062108Z",
          "start_time": "2024-04-03T19:54:21.057979Z"
        },
        "id": "1db5777021c8a175"
      },
      "outputs": [],
      "source": [
        "vocab_size = len(tokenizer.word_index) + 1  # Vocabulary size\n",
        "output_units = len(label_encoder.classes_)  # Number of classes\n",
        "\n",
        "#converting encoded labels to one_hot encoding\n",
        "y_train_one_hot = to_categorical(y_train, output_units)\n",
        "y_test_one_hot = to_categorical(y_test, output_units)"
      ]
    },
    {
      "cell_type": "code",
      "source": [
        "embedding_dim = 100\n",
        "embedding_matrix = np.zeros((vocab_size, embedding_dim))\n",
        "for word, i in tokenizer.word_index.items():\n",
        "    embedding_vector = embeddings_index.get(word)\n",
        "    if embedding_vector is not None:\n",
        "        embedding_matrix[i] = embedding_vector"
      ],
      "metadata": {
        "id": "_6sSu1P-ufDi"
      },
      "id": "_6sSu1P-ufDi",
      "execution_count": 18,
      "outputs": []
    },
    {
      "cell_type": "code",
      "execution_count": 19,
      "id": "bacba6b12ef0bcbc",
      "metadata": {
        "ExecuteTime": {
          "end_time": "2024-04-03T19:54:22.403447Z",
          "start_time": "2024-04-03T19:54:22.400719Z"
        },
        "id": "bacba6b12ef0bcbc"
      },
      "outputs": [],
      "source": [
        "def build_model():\n",
        "    model = Sequential([\n",
        "        Embedding(vocab_size, embedding_dim, weights=[embedding_matrix], trainable=False),\n",
        "        LSTM(128, activation='tanh', recurrent_dropout=0),\n",
        "        Dense(output_units, activation='softmax')\n",
        "    ])\n",
        "    model.compile(loss='categorical_crossentropy', optimizer='adam', metrics=['accuracy'])\n",
        "    return model"
      ]
    },
    {
      "cell_type": "code",
      "execution_count": 23,
      "id": "254c659337e3f29f",
      "metadata": {
        "ExecuteTime": {
          "end_time": "2024-04-03T19:55:15.484416Z",
          "start_time": "2024-04-03T19:54:23.872929Z"
        },
        "colab": {
          "base_uri": "https://localhost:8080/"
        },
        "id": "254c659337e3f29f",
        "outputId": "a344c075-b4fc-41e9-9dc0-a7515508a667"
      },
      "outputs": [
        {
          "output_type": "stream",
          "name": "stdout",
          "text": [
            "Epoch 1/8\n",
            "914/914 [==============================] - 162s 175ms/step - loss: 1.4070 - accuracy: 0.3995\n",
            "Epoch 2/8\n",
            "914/914 [==============================] - 160s 175ms/step - loss: 1.0069 - accuracy: 0.6019\n",
            "Epoch 3/8\n",
            "914/914 [==============================] - 159s 174ms/step - loss: 0.9193 - accuracy: 0.6395\n",
            "Epoch 4/8\n",
            "914/914 [==============================] - 159s 174ms/step - loss: 0.8795 - accuracy: 0.6538\n",
            "Epoch 5/8\n",
            "914/914 [==============================] - 159s 174ms/step - loss: 0.8440 - accuracy: 0.6707\n",
            "Epoch 6/8\n",
            "914/914 [==============================] - 160s 175ms/step - loss: 0.8141 - accuracy: 0.6831\n",
            "Epoch 7/8\n",
            "914/914 [==============================] - 160s 175ms/step - loss: 0.8168 - accuracy: 0.6827\n",
            "Epoch 8/8\n",
            "914/914 [==============================] - 160s 175ms/step - loss: 0.7811 - accuracy: 0.6967\n",
            "286/286 [==============================] - 21s 73ms/step\n"
          ]
        },
        {
          "output_type": "stream",
          "name": "stderr",
          "text": [
            "/usr/local/lib/python3.10/dist-packages/keras/src/engine/training.py:3103: UserWarning: You are saving your model as an HDF5 file via `model.save()`. This file format is considered legacy. We recommend using instead the native Keras format, e.g. `model.save('my_model.keras')`.\n",
            "  saving_api.save_model(\n"
          ]
        }
      ],
      "source": [
        "results = {'precision': [], 'recall': [], 'f1': [], 'accuracy': []}\n",
        "\n",
        "#loop through each percentage\n",
        "for fraction in [0.999]:\n",
        "    model = build_model()  # Recreate the model for each iteration\n",
        "    partial_X_train, _, partial_y_train, _ = train_test_split(X_train, y_train_one_hot,train_size=fraction, random_state=42)\n",
        "    model.fit(partial_X_train, partial_y_train, epochs=8, batch_size=40, verbose=1)\n",
        "\n",
        "    # Predict on X_test\n",
        "    y_pred_prob = model.predict(X_test)\n",
        "    y_pred_classes = np.argmax(y_pred_prob, axis=1)\n",
        "    y_test_integers = np.argmax(y_test_one_hot, axis=1)\n",
        "\n",
        "    # Calculate metrics\n",
        "    precision = precision_score(y_test_integers, y_pred_classes, average='weighted', zero_division=0)\n",
        "    recall = recall_score(y_test_integers, y_pred_classes, average='weighted', zero_division=0)\n",
        "    f1 = f1_score(y_test_integers, y_pred_classes, average='weighted', zero_division=0)\n",
        "    accuracy = accuracy_score(y_test_integers, y_pred_classes)\n",
        "\n",
        "    # Store metrics\n",
        "    results['precision'].append(precision)\n",
        "    results['recall'].append(recall)\n",
        "    results['f1'].append(f1)\n",
        "    results['accuracy'].append(accuracy)\n",
        "\n",
        "    # Save the model\n",
        "    if(fraction == 0.999):\n",
        "        model.save('LSTM1.h5')"
      ]
    },
    {
      "cell_type": "code",
      "execution_count": 10,
      "id": "79b22e967b618081",
      "metadata": {
        "ExecuteTime": {
          "end_time": "2024-04-03T01:07:23.704021Z",
          "start_time": "2024-04-03T01:07:23.487707Z"
        },
        "colab": {
          "base_uri": "https://localhost:8080/",
          "height": 472
        },
        "id": "79b22e967b618081",
        "outputId": "e8ba740f-9982-4866-8bbb-dd43b8abad87"
      },
      "outputs": [
        {
          "output_type": "display_data",
          "data": {
            "text/plain": [
              "<Figure size 640x480 with 1 Axes>"
            ],
            "image/png": "[encoded data removed]"
          },
          "metadata": {}
        }
      ],
      "source": [
        "utils.create_graph([0.1, 0.2], results, 'Long-Short Term Memory network', 'LSTM.png')"
      ]
    },
    {
      "cell_type": "code",
      "execution_count": null,
      "id": "GIrzGKHwSiSp",
      "metadata": {
        "colab": {
          "base_uri": "https://localhost:8080/"
        },
        "id": "GIrzGKHwSiSp",
        "outputId": "c5dafe30-9e29-4cf3-f8e3-4c25598c87b6"
      },
      "outputs": [
        {
          "name": "stderr",
          "output_type": "stream",
          "text": [
            "/usr/local/lib/python3.10/dist-packages/keras/src/engine/training.py:3103: UserWarning: You are saving your model as an HDF5 file via `model.save()`. This file format is considered legacy. We recommend using instead the native Keras format, e.g. `model.save('my_model.keras')`.\n",
            "  saving_api.save_model(\n"
          ]
        }
      ],
      "source": [
        "model.save('LSTM.h5')"
      ]
    },
    {
      "cell_type": "code",
      "execution_count": 24,
      "id": "pWPygbAqT2M-",
      "metadata": {
        "colab": {
          "base_uri": "https://localhost:8080/"
        },
        "id": "pWPygbAqT2M-",
        "outputId": "c7f81287-7b85-4cb7-e357-4413ebe84bcd"
      },
      "outputs": [
        {
          "output_type": "stream",
          "name": "stdout",
          "text": [
            "{'precision': [0.6675255708747266], 'recall': [0.6584992343032159], 'f1': [0.6605767381832144], 'accuracy': [0.6584992343032159]}\n"
          ]
        }
      ],
      "source": [
        "print(results)"
      ]
    }
  ],
  "metadata": {
    "accelerator": "GPU",
    "colab": {
      "gpuType": "A100",
      "machine_shape": "hm",
      "provenance": []
    },
    "kernelspec": {
      "display_name": "Python 3",
      "name": "python3"
    },
    "language_info": {
      "codemirror_mode": {
        "name": "ipython",
        "version": 2
      },
      "file_extension": ".py",
      "mimetype": "text/x-python",
      "name": "python",
      "nbconvert_exporter": "python",
      "pygments_lexer": "ipython2",
      "version": "3.11.9"
    }
  },
  "nbformat": 4,
  "nbformat_minor": 5
}