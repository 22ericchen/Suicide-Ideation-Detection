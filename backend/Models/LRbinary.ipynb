{
 "cells": [
  {
   "cell_type": "markdown",
   "metadata": {},
   "source": [
    "# Logistic Regression Model - Binary\n",
    "In this notebook, we will convert our data into binary classes. We will then create two logistic regression models, one with a downsampled majority class and one with an upsampled minority class, then compare the performance between the two."
   ]
  },
  {
   "cell_type": "markdown",
   "metadata": {},
   "source": [
    "### Instructions to run:\n",
    "- ensure the required files are present in the correct places\n",
    "  - train.csv\n",
    "  - utils.py\n",
    "- ensure all python packages are installed correctly\n",
    "- if there are issues with loading the csv file, try changing the path to just \"train.csv\". sometimes it works differently on different machines!\n",
    "- click run all or run each cell individually"
   ]
  },
  {
   "cell_type": "code",
   "execution_count": 31,
   "metadata": {},
   "outputs": [],
   "source": [
    "from sklearn.linear_model import LogisticRegression\n",
    "from sklearn.feature_extraction.text import TfidfVectorizer\n",
    "from sklearn.metrics import precision_score, recall_score, f1_score, accuracy_score\n",
    "from sklearn.model_selection import train_test_split\n",
    "from sklearn.metrics import accuracy_score\n",
    "from sklearn.utils import resample\n",
    "import matplotlib.pyplot as plt\n",
    "import numpy as np\n",
    "import pandas as pd\n",
    "import utils as utils"
   ]
  },
  {
   "cell_type": "code",
   "execution_count": 2,
   "metadata": {},
   "outputs": [],
   "source": [
    "train_path = '../data/train.csv'"
   ]
  },
  {
   "cell_type": "code",
   "execution_count": 37,
   "metadata": {},
   "outputs": [
    {
     "data": {
      "text/html": [
       "<div>\n",
       "<style scoped>\n",
       "    .dataframe tbody tr th:only-of-type {\n",
       "        vertical-align: middle;\n",
       "    }\n",
       "\n",
       "    .dataframe tbody tr th {\n",
       "        vertical-align: top;\n",
       "    }\n",
       "\n",
       "    .dataframe thead th {\n",
       "        text-align: right;\n",
       "    }\n",
       "</style>\n",
       "<table border=\"1\" class=\"dataframe\">\n",
       "  <thead>\n",
       "    <tr style=\"text-align: right;\">\n",
       "      <th></th>\n",
       "      <th>label</th>\n",
       "    </tr>\n",
       "  </thead>\n",
       "  <tbody>\n",
       "    <tr>\n",
       "      <th>count</th>\n",
       "      <td>45706.000000</td>\n",
       "    </tr>\n",
       "    <tr>\n",
       "      <th>mean</th>\n",
       "      <td>0.187459</td>\n",
       "    </tr>\n",
       "    <tr>\n",
       "      <th>std</th>\n",
       "      <td>0.390284</td>\n",
       "    </tr>\n",
       "    <tr>\n",
       "      <th>min</th>\n",
       "      <td>0.000000</td>\n",
       "    </tr>\n",
       "    <tr>\n",
       "      <th>25%</th>\n",
       "      <td>0.000000</td>\n",
       "    </tr>\n",
       "    <tr>\n",
       "      <th>50%</th>\n",
       "      <td>0.000000</td>\n",
       "    </tr>\n",
       "    <tr>\n",
       "      <th>75%</th>\n",
       "      <td>0.000000</td>\n",
       "    </tr>\n",
       "    <tr>\n",
       "      <th>max</th>\n",
       "      <td>1.000000</td>\n",
       "    </tr>\n",
       "  </tbody>\n",
       "</table>\n",
       "</div>"
      ],
      "text/plain": [
       "              label\n",
       "count  45706.000000\n",
       "mean       0.187459\n",
       "std        0.390284\n",
       "min        0.000000\n",
       "25%        0.000000\n",
       "50%        0.000000\n",
       "75%        0.000000\n",
       "max        1.000000"
      ]
     },
     "execution_count": 37,
     "metadata": {},
     "output_type": "execute_result"
    }
   ],
   "source": [
    "df = pd.read_csv(train_path)\n",
    "# replace suicide with 1, everything else 0\n",
    "df['label'] = (df['label'] == 'self.SuicideWatch').astype(int)\n",
    "df.describe()"
   ]
  },
  {
   "cell_type": "code",
   "execution_count": 38,
   "metadata": {},
   "outputs": [],
   "source": [
    "# get majority and minority classes\n",
    "df_majority = df[df['label'] == 0]\n",
    "df_minority = df[df['label'] == 1]"
   ]
  },
  {
   "cell_type": "code",
   "execution_count": 19,
   "metadata": {},
   "outputs": [],
   "source": [
    "# upsample minority class\n",
    "df_minority_upsampled = resample(df_minority, \n",
    "                                 replace=True,\n",
    "                                 n_samples=len(df_majority),\n",
    "                                 random_state=42)\n",
    "\n",
    "# downsample majority class\n",
    "df_majority_downsampled = resample(df_majority,\n",
    "                                    replace=False,\n",
    "                                    n_samples=len(df_minority),\n",
    "                                    random_state=42)"
   ]
  },
  {
   "cell_type": "code",
   "execution_count": 20,
   "metadata": {},
   "outputs": [],
   "source": [
    "# create new dfs with upsampled/downsampled data\n",
    "df_upsampled = pd.concat([df_majority, df_minority_upsampled])\n",
    "df_upsampled = df_upsampled.sample(frac=1, random_state=42)\n",
    "\n",
    "df_downsampled = pd.concat([df_majority_downsampled, df_minority])\n",
    "df_downsampled = df_downsampled.sample(frac=1, random_state=42)"
   ]
  },
  {
   "cell_type": "code",
   "execution_count": 21,
   "metadata": {},
   "outputs": [
    {
     "name": "stdout",
     "output_type": "stream",
     "text": [
      "label\n",
      "1    37138\n",
      "0    37138\n",
      "Name: count, dtype: int64\n",
      "label\n",
      "0    8568\n",
      "1    8568\n",
      "Name: count, dtype: int64\n"
     ]
    }
   ],
   "source": [
    "# ensure counts are correct\n",
    "print(df_upsampled['label'].value_counts())\n",
    "print(df_downsampled['label'].value_counts())"
   ]
  },
  {
   "cell_type": "code",
   "execution_count": 22,
   "metadata": {},
   "outputs": [],
   "source": [
    "# create tfidf vectorizer for upsampled and downsampled data\n",
    "tfidf_upsampled = TfidfVectorizer(max_features=10000)\n",
    "X_upsampled = tfidf_upsampled.fit_transform(df_upsampled['text'])\n",
    "\n",
    "tfidf_downsampled = TfidfVectorizer(max_features=10000)\n",
    "X_downsampled = tfidf_downsampled.fit_transform(df_downsampled['text'])"
   ]
  },
  {
   "cell_type": "code",
   "execution_count": 23,
   "metadata": {},
   "outputs": [],
   "source": [
    "# split datasets into train and test sets\n",
    "X_train_upsampled, X_test_upsampled, y_train_upsampled, y_test_upsampled = train_test_split(X_upsampled, df_upsampled['label'], test_size=0.2, random_state=42)\n",
    "\n",
    "X_train_downsampled, X_test_downsampled, y_train_downsampled, y_test_downsampled = train_test_split(X_downsampled, df_downsampled['label'], test_size=0.2, random_state=42)"
   ]
  },
  {
   "cell_type": "code",
   "execution_count": 24,
   "metadata": {},
   "outputs": [],
   "source": [
    "# create models, fit, and predict for both upsampled and downsampled data\n",
    "model_upsampled = LogisticRegression()\n",
    "model_upsampled.fit(X_train_upsampled, y_train_upsampled)\n",
    "y_pred_upsampled = model_upsampled.predict(X_test_upsampled)\n",
    "\n",
    "model_downsampled = LogisticRegression()\n",
    "model_downsampled.fit(X_train_downsampled, y_train_downsampled)\n",
    "y_pred_downsampled = model_downsampled.predict(X_test_downsampled)"
   ]
  },
  {
   "cell_type": "code",
   "execution_count": 25,
   "metadata": {},
   "outputs": [],
   "source": [
    "# function to get precision, recall, f1, and accuracy metrics\n",
    "def get_prfa(y_true, y_pred):\n",
    "    precision = precision_score(y_true, y_pred)\n",
    "    recall = recall_score(y_true, y_pred)\n",
    "    f1 = f1_score(y_true, y_pred)\n",
    "    accuracy = accuracy_score(y_true, y_pred)\n",
    "    return precision, recall, f1, accuracy"
   ]
  },
  {
   "cell_type": "code",
   "execution_count": 27,
   "metadata": {},
   "outputs": [],
   "source": [
    "# get performance metrics for both models\n",
    "precision_upsampled, recall_upsampled, f1_upsampled, accuracy_upsampled = get_prfa(y_test_upsampled, y_pred_upsampled)\n",
    "precision_downsampled, recall_downsampled, f1_downsampled, accuracy_downsampled = get_prfa(y_test_downsampled, y_pred_downsampled)"
   ]
  },
  {
   "cell_type": "code",
   "execution_count": 28,
   "metadata": {},
   "outputs": [
    {
     "name": "stdout",
     "output_type": "stream",
     "text": [
      "Upsampled metrics:\n",
      "Precision: 0.8446550816219063\n",
      "Recall: 0.8636424821644905\n",
      "F1: 0.8540432612312812\n",
      "Accuracy: 0.8523828756058158\n"
     ]
    }
   ],
   "source": [
    "# print upsampling metrics\n",
    "print('Upsampled metrics:')\n",
    "print('Precision:', precision_upsampled)\n",
    "print('Recall:', recall_upsampled)\n",
    "print('F1:', f1_upsampled)\n",
    "print('Accuracy:', accuracy_upsampled)"
   ]
  },
  {
   "cell_type": "code",
   "execution_count": 29,
   "metadata": {},
   "outputs": [
    {
     "name": "stdout",
     "output_type": "stream",
     "text": [
      "Downsampled metrics:\n",
      "Precision: 0.8019976498237368\n",
      "Recall: 0.8024691358024691\n",
      "F1: 0.8022333235380547\n",
      "Accuracy: 0.8036756126021003\n"
     ]
    }
   ],
   "source": [
    "# print downsampling metrics\n",
    "print('Downsampled metrics:')\n",
    "print('Precision:', precision_downsampled)\n",
    "print('Recall:', recall_downsampled)\n",
    "print('F1:', f1_downsampled)\n",
    "print('Accuracy:', accuracy_downsampled)"
   ]
  },
  {
   "cell_type": "code",
   "execution_count": 30,
   "metadata": {},
   "outputs": [],
   "source": [
    "# plot metrics\n",
    "metrics = ['Precision', 'Recall', 'F1', 'Accuracy']\n",
    "upsampled = [precision_upsampled, recall_upsampled, f1_upsampled, accuracy_upsampled]\n",
    "downsampled = [precision_downsampled, recall_downsampled, f1_downsampled, accuracy_downsampled]\n",
    "normal = [0.6797418587296911, 0.6663749726536863, 0.6676687415263957, 0.6663749726536863]"
   ]
  },
  {
   "cell_type": "code",
   "execution_count": 36,
   "metadata": {},
   "outputs": [
    {
     "data": {
      "image/png": "[encoded data removed]",
      "text/plain": [
       "<Figure size 640x480 with 1 Axes>"
      ]
     },
     "metadata": {},
     "output_type": "display_data"
    }
   ],
   "source": [
    "index = np.arange(4)\n",
    "bar_width = 0.25\n",
    "fig, ax = plt.subplots()\n",
    "\n",
    "bars1 = ax.bar(index, upsampled, bar_width, label='Upsampled Binary')\n",
    "bars2 = ax.bar(index + bar_width, downsampled, bar_width, label='Downsampled Binary')\n",
    "bars3 = ax.bar(index + 2 * bar_width, normal, bar_width, label='Normal Multiclass')\n",
    "\n",
    "ax.set_xlabel('Metric')\n",
    "ax.set_ylabel('Scores')\n",
    "ax.set_title('Comparison of Model Metrics')\n",
    "ax.set_xticks(index + bar_width)\n",
    "ax.set_xticklabels(metrics)\n",
    "ax.legend(loc='upper left', bbox_to_anchor=(1, 1))\n",
    "plt.savefig('LRcomparison.png', bbox_inches='tight')\n",
    "plt.show()"
   ]
  }
 ],
 "metadata": {
  "kernelspec": {
   "display_name": "matth",
   "language": "python",
   "name": "python3"
  },
  "language_info": {
   "codemirror_mode": {
    "name": "ipython",
    "version": 3
   },
   "file_extension": ".py",
   "mimetype": "text/x-python",
   "name": "python",
   "nbconvert_exporter": "python",
   "pygments_lexer": "ipython3",
   "version": "3.11.9"
  }
 },
 "nbformat": 4,
 "nbformat_minor": 2
}
