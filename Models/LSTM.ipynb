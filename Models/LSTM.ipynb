{
 "cells": [
  {
   "cell_type": "code",
   "execution_count": 1,
   "id": "initial_id",
   "metadata": {
    "collapsed": true,
    "ExecuteTime": {
     "end_time": "2024-04-02T17:11:47.106476Z",
     "start_time": "2024-04-02T17:11:41.769506Z"
    }
   },
   "outputs": [],
   "source": [
    "import pandas as pd\n",
    "import re\n",
    "from sklearn.preprocessing import LabelEncoder\n",
    "from tensorflow.keras.models import Sequential\n",
    "from tensorflow.keras.layers import Embedding, LSTM, Dense\n",
    "from tensorflow.keras.preprocessing.text import Tokenizer\n",
    "from tensorflow.keras.preprocessing.sequence import pad_sequences"
   ]
  },
  {
   "cell_type": "code",
   "outputs": [],
   "source": [
    "train_path = '../data/train.csv'\n",
    "test_path = '../data/test.csv'"
   ],
   "metadata": {
    "collapsed": false,
    "ExecuteTime": {
     "end_time": "2024-04-02T17:13:34.105067Z",
     "start_time": "2024-04-02T17:13:34.101976Z"
    }
   },
   "id": "18af4ba0a056a64d",
   "execution_count": 6
  },
  {
   "cell_type": "code",
   "outputs": [
    {
     "data": {
      "text/plain": "                                                     text            label\ncount                                               34823            34823\nunique                                              34772                5\ntop     FEARLESS FRIDAYS MEGA THREAD. Here we discuss ...  self.depression\nfreq                                                   13            11940",
      "text/html": "<div>\n<style scoped>\n    .dataframe tbody tr th:only-of-type {\n        vertical-align: middle;\n    }\n\n    .dataframe tbody tr th {\n        vertical-align: top;\n    }\n\n    .dataframe thead th {\n        text-align: right;\n    }\n</style>\n<table border=\"1\" class=\"dataframe\">\n  <thead>\n    <tr style=\"text-align: right;\">\n      <th></th>\n      <th>text</th>\n      <th>label</th>\n    </tr>\n  </thead>\n  <tbody>\n    <tr>\n      <th>count</th>\n      <td>34823</td>\n      <td>34823</td>\n    </tr>\n    <tr>\n      <th>unique</th>\n      <td>34772</td>\n      <td>5</td>\n    </tr>\n    <tr>\n      <th>top</th>\n      <td>FEARLESS FRIDAYS MEGA THREAD. Here we discuss ...</td>\n      <td>self.depression</td>\n    </tr>\n    <tr>\n      <th>freq</th>\n      <td>13</td>\n      <td>11940</td>\n    </tr>\n  </tbody>\n</table>\n</div>"
     },
     "execution_count": 9,
     "metadata": {},
     "output_type": "execute_result"
    }
   ],
   "source": [
    "train_data = pd.read_csv(train_path)\n",
    "train_data.describe()"
   ],
   "metadata": {
    "collapsed": false,
    "ExecuteTime": {
     "end_time": "2024-04-02T17:15:04.057949Z",
     "start_time": "2024-04-02T17:15:03.615524Z"
    }
   },
   "id": "a9ad910de8656f2c",
   "execution_count": 9
  },
  {
   "cell_type": "code",
   "outputs": [
    {
     "data": {
      "text/plain": "                                                     text            label\ncount                                               10883            10883\nunique                                              10881                5\ntop     Reminiscing the past Life used to be so great ...  self.depression\nfreq                                                    2             3774",
      "text/html": "<div>\n<style scoped>\n    .dataframe tbody tr th:only-of-type {\n        vertical-align: middle;\n    }\n\n    .dataframe tbody tr th {\n        vertical-align: top;\n    }\n\n    .dataframe thead th {\n        text-align: right;\n    }\n</style>\n<table border=\"1\" class=\"dataframe\">\n  <thead>\n    <tr style=\"text-align: right;\">\n      <th></th>\n      <th>text</th>\n      <th>label</th>\n    </tr>\n  </thead>\n  <tbody>\n    <tr>\n      <th>count</th>\n      <td>10883</td>\n      <td>10883</td>\n    </tr>\n    <tr>\n      <th>unique</th>\n      <td>10881</td>\n      <td>5</td>\n    </tr>\n    <tr>\n      <th>top</th>\n      <td>Reminiscing the past Life used to be so great ...</td>\n      <td>self.depression</td>\n    </tr>\n    <tr>\n      <th>freq</th>\n      <td>2</td>\n      <td>3774</td>\n    </tr>\n  </tbody>\n</table>\n</div>"
     },
     "execution_count": 10,
     "metadata": {},
     "output_type": "execute_result"
    }
   ],
   "source": [
    "test_data = pd.read_csv(test_path)\n",
    "test_data.describe()"
   ],
   "metadata": {
    "collapsed": false,
    "ExecuteTime": {
     "end_time": "2024-04-02T17:15:08.895471Z",
     "start_time": "2024-04-02T17:15:08.765146Z"
    }
   },
   "id": "fef07bc64cd8ea39",
   "execution_count": 10
  },
  {
   "cell_type": "code",
   "outputs": [],
   "source": [
    "train_data['text'] = train_data['text'].apply(clean_text)\n",
    "test_data['text'] = test_data['text'].apply(clean_text)"
   ],
   "metadata": {
    "collapsed": false
   },
   "id": "945eb97cf11209f1"
  },
  {
   "cell_type": "code",
   "outputs": [],
   "source": [
    "# Encode labels\n",
    "label_encoder = LabelEncoder()\n",
    "train_data['label'] = label_encoder.fit_transform(train_data['label'])\n",
    "test_data['label'] = label_encoder.transform(test_data['label'])\n",
    "\n",
    "# Tokenize text\n",
    "tokenizer = Tokenizer()\n",
    "tokenizer.fit_on_texts(train_data['text'])\n",
    "\n",
    "# Convert text to sequences and pad them\n",
    "max_length = max([len(s.split()) for s in train_data['text']])\n",
    "vocab_size = len(tokenizer.word_index) + 1  # Adding 1 because of reserved 0 index\n",
    "\n",
    "train_sequences = tokenizer.texts_to_sequences(train_data['text'])\n",
    "train_padded = pad_sequences(train_sequences, maxlen=max_length, padding='post')\n",
    "\n",
    "test_sequences = tokenizer.texts_to_sequences(test_data['text'])\n",
    "test_padded = pad_sequences(test_sequences, maxlen=max_length, padding='post')"
   ],
   "metadata": {
    "collapsed": false
   },
   "id": "9c9482b16b4f9b0b"
  },
  {
   "cell_type": "code",
   "outputs": [],
   "source": [
    "model = Sequential([\n",
    "    Embedding(vocab_size, 128, input_length=max_length),\n",
    "    LSTM(64, dropout=0.2, recurrent_dropout=0.2),\n",
    "    Dense(1, activation='sigmoid')\n",
    "])\n",
    "\n",
    "model.compile(loss='binary_crossentropy', optimizer='adam', metrics=['accuracy'])"
   ],
   "metadata": {
    "collapsed": false
   },
   "id": "bacba6b12ef0bcbc"
  },
  {
   "cell_type": "code",
   "outputs": [],
   "source": [
    "model.fit(train_padded, train_data['label'], epochs=10, validation_split=0.2)"
   ],
   "metadata": {
    "collapsed": false
   },
   "id": "39c097a2f0e9dd9d"
  },
  {
   "cell_type": "code",
   "outputs": [],
   "source": [
    "loss, accuracy = model.evaluate(test_padded, test_data['label'])\n",
    "print(f'Test Loss: {loss}')\n",
    "print(f'Test Accuracy: {accuracy}')"
   ],
   "metadata": {
    "collapsed": false
   },
   "id": "254c659337e3f29f"
  }
 ],
 "metadata": {
  "kernelspec": {
   "display_name": "Python 3",
   "language": "python",
   "name": "python3"
  },
  "language_info": {
   "codemirror_mode": {
    "name": "ipython",
    "version": 2
   },
   "file_extension": ".py",
   "mimetype": "text/x-python",
   "name": "python",
   "nbconvert_exporter": "python",
   "pygments_lexer": "ipython2",
   "version": "2.7.6"
  }
 },
 "nbformat": 4,
 "nbformat_minor": 5
}
